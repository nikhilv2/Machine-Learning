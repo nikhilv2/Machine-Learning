{
  "nbformat": 4,
  "nbformat_minor": 0,
  "metadata": {
    "colab": {
      "name": "MNIST Hand written digit prediction.ipynb",
      "provenance": [],
      "authorship_tag": "ABX9TyNYWd/MXMyFWhscMNPSt8dB",
      "include_colab_link": true
    },
    "kernelspec": {
      "name": "python3",
      "display_name": "Python 3"
    }
  },
  "cells": [
    {
      "cell_type": "markdown",
      "metadata": {
        "id": "view-in-github",
        "colab_type": "text"
      },
      "source": [
        "<a href=\"https://colab.research.google.com/github/nikhilv2/Machine-Learning/blob/main/MNIST_Hand_written_digit_prediction.ipynb\" target=\"_parent\"><img src=\"https://colab.research.google.com/assets/colab-badge.svg\" alt=\"Open In Colab\"/></a>"
      ]
    },
    {
      "cell_type": "code",
      "metadata": {
        "id": "TMUJhFjhTvw_"
      },
      "source": [
        "import tensorflow.keras as tf\r\n",
        "import matplotlib.pyplot as plt"
      ],
      "execution_count": null,
      "outputs": []
    },
    {
      "cell_type": "code",
      "metadata": {
        "colab": {
          "base_uri": "https://localhost:8080/"
        },
        "id": "yNixqJbNUy4U",
        "outputId": "359f132e-2343-4da1-899a-08d91202f8db"
      },
      "source": [
        "mnist = tf.datasets.mnist\r\n",
        "(xtrain,ytrain),(xtest,ytest) = mnist.load_data()"
      ],
      "execution_count": null,
      "outputs": [
        {
          "output_type": "stream",
          "text": [
            "Downloading data from https://storage.googleapis.com/tensorflow/tf-keras-datasets/mnist.npz\n",
            "11493376/11490434 [==============================] - 0s 0us/step\n"
          ],
          "name": "stdout"
        }
      ]
    },
    {
      "cell_type": "code",
      "metadata": {
        "colab": {
          "base_uri": "https://localhost:8080/"
        },
        "id": "r97KjWHiU8en",
        "outputId": "29bc1986-f899-4c20-a9b1-e1cf8e7178d8"
      },
      "source": [
        "xtrain[700]                        ## array of the 700th image present in the dataset"
      ],
      "execution_count": null,
      "outputs": [
        {
          "output_type": "execute_result",
          "data": {
            "text/plain": [
              "array([[  0,   0,   0,   0,   0,   0,   0,   0,   0,   0,   0,   0,   0,\n",
              "          0,   0,   0,   0,   0,   0,   0,   0,   0,   0,   0,   0,   0,\n",
              "          0,   0],\n",
              "       [  0,   0,   0,   0,   0,   0,   0,   0,   0,   0,   0,   0,   0,\n",
              "          0,   0,   0,   0,   0,   0,   0,   0,   0,   0,   0,   0,   0,\n",
              "          0,   0],\n",
              "       [  0,   0,   0,   0,   0,   0,   0,   0,   0,   0,   0,   0,   0,\n",
              "          0,   0,   0,   0,   0,   0,   0,   0,   0,   0,   0,   0,   0,\n",
              "          0,   0],\n",
              "       [  0,   0,   0,   0,   0,   0,   0,   0,   0,   0,   0,   0,   0,\n",
              "          0,   0,   0,   0,   0,   0,   0,   0,   0,   0,   0,   0,   0,\n",
              "          0,   0],\n",
              "       [  0,   0,   0,   0,   0,   0,   0,   0,   0,   0,   0,   0,   0,\n",
              "          0,   0,   0,   0,   0,   0,   0,   0,   0,   0,   0,   0,   0,\n",
              "          0,   0],\n",
              "       [  0,   0,   0,   0,   0,   0,   0,   0,   0,   0,   0,   0,   0,\n",
              "          0,   0,   0,   0,   0,   0,   0,   0,  98, 224,  42,   0,   0,\n",
              "          0,   0],\n",
              "       [  0,   0,   0,   0,   0,   0,   0,   0,   0,   0,   0,   0,  30,\n",
              "        113,  74,   0,   0,   0,   0,   0,   8, 207, 209,   0,   0,   0,\n",
              "          0,   0],\n",
              "       [  0,   0,   0,   0,   0,   0,   0,   0,   0,   0,   0,  39, 211,\n",
              "        215,  29,   0,   0,   0,   0,   0, 108, 254, 102,   0,   0,   0,\n",
              "          0,   0],\n",
              "       [  0,   0,   0,   0,   0,   0,   0,   0,   0,   0,   3, 170, 247,\n",
              "         46,   0,   0,   0,   0,   0,  11, 213, 227,  12,   0,   0,   0,\n",
              "          0,   0],\n",
              "       [  0,   0,   0,   0,   0,   0,   0,   0,   0,   0,  75, 254, 113,\n",
              "         58,   0,   0,   0,   0,   0, 140, 254,  81,   0,   0,   0,   0,\n",
              "          0,   0],\n",
              "       [  0,   0,   0,   0,   0,   0,   0,   0,   0,   0, 158, 239,  92,\n",
              "        205,   0,   0,   0,   0,  39, 251, 203,   6,   0,   0,   0,   0,\n",
              "          0,   0],\n",
              "       [  0,   0,   0,   0,   0,   0,   0,   0,   0,  41, 251, 166, 217,\n",
              "         98,   0,   0,   0,   0, 145, 254,  88,   0,   0,   0,   0,   0,\n",
              "          0,   0],\n",
              "       [  0,   0,   0,   0,   0,   0,   0,   0,   0,  94, 254, 254, 242,\n",
              "         40,   0,   0,   0,  44, 246, 182,   0,   0,   0,   0,   0,   0,\n",
              "          0,   0],\n",
              "       [  0,   0,   0,   0,   0,   0,   0,   0,   0, 133, 254, 254, 107,\n",
              "          0,   0,   0,   5, 175, 240,  57,   0,   0,   0,   0,   0,   0,\n",
              "          0,   0],\n",
              "       [  0,   0,   0,   0,   0,   0,   0,   0,   0, 217, 254, 212,  18,\n",
              "          0,   0,   0,  71, 254, 161,   0,   0,   0,   0,   0,   0,   0,\n",
              "          0,   0],\n",
              "       [  0,   0,   0,   0,   0,   0,   0,   0,  28, 251, 233,  47,   0,\n",
              "          0,   0,   0, 232, 223,  10,   0,   0,   0,   0,   0,   0,   0,\n",
              "          0,   0],\n",
              "       [  0,   0,   0,   0,   0,   0,   0,   0,  70, 254, 138,   0,   0,\n",
              "          0,   0,  38, 251, 100,   0,   0,   0,   0,   0,   0,   0,   0,\n",
              "          0,   0],\n",
              "       [  0,   0,   0,   0,   0,   0,   0,   0,  30, 250, 229, 105,  70,\n",
              "         19,   0, 190, 211,   0,   0,   0,   0,   0,   0,   0,   0,   0,\n",
              "          0,   0],\n",
              "       [  0,   0,   0,   0,   0,   0,   0,   0,   0, 144, 254, 254, 254,\n",
              "        136,  86, 247, 115,  13,   0,   0,   0,   0,   0,   0,   0,   0,\n",
              "          0,   0],\n",
              "       [  0,   0,   0,   0,   0,   0,   0,   0,   0,  23, 121, 138, 188,\n",
              "        244, 254, 254, 252, 153,   0,   0,   0,   0,   0,   0,   0,   0,\n",
              "          0,   0],\n",
              "       [  0,   0,   0,   0,   0,   0,   0,   0,   0,   0,   0,   0,   0,\n",
              "        138, 254, 174,  35,   0,   0,   0,   0,   0,   0,   0,   0,   0,\n",
              "          0,   0],\n",
              "       [  0,   0,   0,   0,   0,   0,   0,   0,   0,   0,   0,   0,   5,\n",
              "        209, 218,   9,   0,   0,   0,   0,   0,   0,   0,   0,   0,   0,\n",
              "          0,   0],\n",
              "       [  0,   0,   0,   0,   0,   0,   0,   0,   0,   0,   0,   0,  95,\n",
              "        254,  91,   0,   0,   0,   0,   0,   0,   0,   0,   0,   0,   0,\n",
              "          0,   0],\n",
              "       [  0,   0,   0,   0,   0,   0,   0,   0,   0,   0,   0,   0, 162,\n",
              "        254,  46,   0,   0,   0,   0,   0,   0,   0,   0,   0,   0,   0,\n",
              "          0,   0],\n",
              "       [  0,   0,   0,   0,   0,   0,   0,   0,   0,   0,   0,   0,  93,\n",
              "        222,  32,   0,   0,   0,   0,   0,   0,   0,   0,   0,   0,   0,\n",
              "          0,   0],\n",
              "       [  0,   0,   0,   0,   0,   0,   0,   0,   0,   0,   0,   0,   0,\n",
              "          0,   0,   0,   0,   0,   0,   0,   0,   0,   0,   0,   0,   0,\n",
              "          0,   0],\n",
              "       [  0,   0,   0,   0,   0,   0,   0,   0,   0,   0,   0,   0,   0,\n",
              "          0,   0,   0,   0,   0,   0,   0,   0,   0,   0,   0,   0,   0,\n",
              "          0,   0],\n",
              "       [  0,   0,   0,   0,   0,   0,   0,   0,   0,   0,   0,   0,   0,\n",
              "          0,   0,   0,   0,   0,   0,   0,   0,   0,   0,   0,   0,   0,\n",
              "          0,   0]], dtype=uint8)"
            ]
          },
          "metadata": {
            "tags": []
          },
          "execution_count": 6
        }
      ]
    },
    {
      "cell_type": "code",
      "metadata": {
        "colab": {
          "base_uri": "https://localhost:8080/",
          "height": 282
        },
        "id": "l2r4B1L-WRlb",
        "outputId": "629bbe48-4412-42fa-c0fd-901a959757cd"
      },
      "source": [
        "plt.imshow(xtrain[700],cmap='gray')\r\n",
        "plt.show"
      ],
      "execution_count": null,
      "outputs": [
        {
          "output_type": "execute_result",
          "data": {
            "text/plain": [
              "<function matplotlib.pyplot.show>"
            ]
          },
          "metadata": {
            "tags": []
          },
          "execution_count": 8
        },
        {
          "output_type": "display_data",
          "data": {
            "image/png": "[encoded data removed]",
            "text/plain": [
              "<Figure size 432x288 with 1 Axes>"
            ]
          },
          "metadata": {
            "tags": [],
            "needs_background": "light"
          }
        }
      ]
    },
    {
      "cell_type": "code",
      "metadata": {
        "colab": {
          "base_uri": "https://localhost:8080/"
        },
        "id": "P-YAX8rpWhZC",
        "outputId": "45793de9-e2c3-4f62-b5f4-7926b33ceb83"
      },
      "source": [
        "ytrain[700]           ##Number present in the image"
      ],
      "execution_count": null,
      "outputs": [
        {
          "output_type": "execute_result",
          "data": {
            "text/plain": [
              "4"
            ]
          },
          "metadata": {
            "tags": []
          },
          "execution_count": 9
        }
      ]
    },
    {
      "cell_type": "code",
      "metadata": {
        "id": "5arHNf7_Wq6g"
      },
      "source": [
        "##Neural Network\r\n"
      ],
      "execution_count": null,
      "outputs": []
    },
    {
      "cell_type": "code",
      "metadata": {
        "id": "Sn-KZWlvW379"
      },
      "source": [
        "model = tf.models.Sequential()\r\n",
        "model.add(tf.layers.Flatten())                    ##Flatten is used in the case of image sample - basically converts it  into 1D array\r\n",
        "model.add(tf.layers.Dense(784, activation = 'relu'))                  ##784 is the number with most accuracy\r\n",
        "model.add(tf.layers.Dense(10,activation = 'softmax'))\r\n",
        "model.compile(loss = 'sparse_categorical_crossentropy',optimizer = \"adam\", metrics = [\"accuracy\"])"
      ],
      "execution_count": null,
      "outputs": []
    },
    {
      "cell_type": "code",
      "metadata": {
        "id": "354vRZ_ZbWhj"
      },
      "source": [
        "##Scale the data\r\n",
        "xtrain = xtrain/255\r\n",
        "xtest = xtest/255"
      ],
      "execution_count": null,
      "outputs": []
    },
    {
      "cell_type": "code",
      "metadata": {
        "id": "4DfvBwVIZN0D"
      },
      "source": [
        "## Train the model"
      ],
      "execution_count": null,
      "outputs": []
    },
    {
      "cell_type": "code",
      "metadata": {
        "colab": {
          "base_uri": "https://localhost:8080/"
        },
        "id": "wvdwceXkac10",
        "outputId": "73204e2c-dc67-4530-8d7c-34b48d1604ab"
      },
      "source": [
        "model.fit(xtrain,ytrain,epochs = 15)"
      ],
      "execution_count": null,
      "outputs": [
        {
          "output_type": "stream",
          "text": [
            "Epoch 1/15\n",
            "1875/1875 [==============================] - 10s 5ms/step - loss: 0.1908 - accuracy: 0.9432\n",
            "Epoch 2/15\n",
            "1875/1875 [==============================] - 10s 5ms/step - loss: 0.0766 - accuracy: 0.9760\n",
            "Epoch 3/15\n",
            "1875/1875 [==============================] - 10s 5ms/step - loss: 0.0492 - accuracy: 0.9844\n",
            "Epoch 4/15\n",
            "1875/1875 [==============================] - 10s 5ms/step - loss: 0.0351 - accuracy: 0.9890\n",
            "Epoch 5/15\n",
            "1875/1875 [==============================] - 10s 5ms/step - loss: 0.0263 - accuracy: 0.9915\n",
            "Epoch 6/15\n",
            "1875/1875 [==============================] - 10s 5ms/step - loss: 0.0201 - accuracy: 0.9932\n",
            "Epoch 7/15\n",
            "1875/1875 [==============================] - 10s 5ms/step - loss: 0.0177 - accuracy: 0.9939\n",
            "Epoch 8/15\n",
            "1875/1875 [==============================] - 10s 5ms/step - loss: 0.0140 - accuracy: 0.9952\n",
            "Epoch 9/15\n",
            "1875/1875 [==============================] - 10s 5ms/step - loss: 0.0133 - accuracy: 0.9955\n",
            "Epoch 10/15\n",
            "1875/1875 [==============================] - 10s 5ms/step - loss: 0.0124 - accuracy: 0.9961\n",
            "Epoch 11/15\n",
            "1875/1875 [==============================] - 10s 6ms/step - loss: 0.0089 - accuracy: 0.9970\n",
            "Epoch 12/15\n",
            "1875/1875 [==============================] - 10s 5ms/step - loss: 0.0095 - accuracy: 0.9966\n",
            "Epoch 13/15\n",
            "1875/1875 [==============================] - 10s 5ms/step - loss: 0.0109 - accuracy: 0.9968\n",
            "Epoch 14/15\n",
            "1875/1875 [==============================] - 10s 5ms/step - loss: 0.0093 - accuracy: 0.9970\n",
            "Epoch 15/15\n",
            "1875/1875 [==============================] - 10s 5ms/step - loss: 0.0086 - accuracy: 0.9975\n"
          ],
          "name": "stdout"
        },
        {
          "output_type": "execute_result",
          "data": {
            "text/plain": [
              "<tensorflow.python.keras.callbacks.History at 0x7fe1e8ff6d68>"
            ]
          },
          "metadata": {
            "tags": []
          },
          "execution_count": 21
        }
      ]
    },
    {
      "cell_type": "code",
      "metadata": {
        "id": "4x9u_2xdbkAJ"
      },
      "source": [
        "ypred = model.predict(xtest)"
      ],
      "execution_count": null,
      "outputs": []
    },
    {
      "cell_type": "code",
      "metadata": {
        "colab": {
          "base_uri": "https://localhost:8080/"
        },
        "id": "0Vylh2t-c-6j",
        "outputId": "6641241a-00f1-4d01-e129-92765a543e82"
      },
      "source": [
        "ytest[52]"
      ],
      "execution_count": null,
      "outputs": [
        {
          "output_type": "execute_result",
          "data": {
            "text/plain": [
              "5"
            ]
          },
          "metadata": {
            "tags": []
          },
          "execution_count": 23
        }
      ]
    },
    {
      "cell_type": "code",
      "metadata": {
        "colab": {
          "base_uri": "https://localhost:8080/"
        },
        "id": "wuuvAV5IdX1V",
        "outputId": "d1ef8111-4523-4650-b0e6-86968f80e9c2"
      },
      "source": [
        "ypred[52]"
      ],
      "execution_count": null,
      "outputs": [
        {
          "output_type": "execute_result",
          "data": {
            "text/plain": [
              "array([1.9502439e-21, 5.9599192e-23, 2.5930716e-22, 1.7231915e-15,\n",
              "       1.3913738e-23, 1.0000000e+00, 5.7039314e-19, 5.0213049e-22,\n",
              "       7.8771285e-18, 2.5716736e-12], dtype=float32)"
            ]
          },
          "metadata": {
            "tags": []
          },
          "execution_count": 24
        }
      ]
    },
    {
      "cell_type": "code",
      "metadata": {
        "colab": {
          "base_uri": "https://localhost:8080/"
        },
        "id": "OF7a5FjxdZsN",
        "outputId": "a9bf6f53-5b46-42a2-f95a-12fa5c9e2bcc"
      },
      "source": [
        "ypred[52].argmax()"
      ],
      "execution_count": null,
      "outputs": [
        {
          "output_type": "execute_result",
          "data": {
            "text/plain": [
              "5"
            ]
          },
          "metadata": {
            "tags": []
          },
          "execution_count": 25
        }
      ]
    },
    {
      "cell_type": "code",
      "metadata": {
        "colab": {
          "base_uri": "https://localhost:8080/"
        },
        "id": "n_VZPI55d9l9",
        "outputId": "94d5c10b-46d6-4177-9e3c-814623784df4"
      },
      "source": [
        "model.evaluate(xtest,ytest)"
      ],
      "execution_count": null,
      "outputs": [
        {
          "output_type": "stream",
          "text": [
            "313/313 [==============================] - 1s 2ms/step - loss: 0.1002 - accuracy: 0.9832\n"
          ],
          "name": "stdout"
        },
        {
          "output_type": "execute_result",
          "data": {
            "text/plain": [
              "[0.10015080869197845, 0.9832000136375427]"
            ]
          },
          "metadata": {
            "tags": []
          },
          "execution_count": 26
        }
      ]
    },
    {
      "cell_type": "code",
      "metadata": {
        "colab": {
          "base_uri": "https://localhost:8080/",
          "height": 264
        },
        "id": "5WipbMX0eUsU",
        "outputId": "71b53b61-dc1c-4a31-efdb-84e58948eb1d"
      },
      "source": [
        "import cv2\r\n",
        "img = cv2.imread(\"a.png\",0)\r\n",
        "img = cv2.bitwise_not(img)\r\n",
        "img = cv2.resize(img,(28,28))\r\n",
        "img = img/255\r\n",
        "plt.imshow(img)\r\n",
        "plt.show()"
      ],
      "execution_count": null,
      "outputs": [
        {
          "output_type": "display_data",
          "data": {
            "image/png": "[encoded data removed]",
            "text/plain": [
              "<Figure size 432x288 with 1 Axes>"
            ]
          },
          "metadata": {
            "tags": [],
            "needs_background": "light"
          }
        }
      ]
    },
    {
      "cell_type": "code",
      "metadata": {
        "colab": {
          "base_uri": "https://localhost:8080/"
        },
        "id": "EYAgyaqFhKzw",
        "outputId": "b46a4a18-e324-4c43-bf56-af720f1422db"
      },
      "source": [
        "import numpy as np\r\n",
        "model.predict(np.array([[img]]))"
      ],
      "execution_count": null,
      "outputs": [
        {
          "output_type": "execute_result",
          "data": {
            "text/plain": [
              "array([[2.6974548e-17, 2.7751420e-16, 1.0000000e+00, 2.5349853e-14,\n",
              "        6.0649942e-20, 1.2425117e-18, 6.0233041e-10, 1.1626807e-19,\n",
              "        1.5179326e-18, 5.0429636e-27]], dtype=float32)"
            ]
          },
          "metadata": {
            "tags": []
          },
          "execution_count": 31
        }
      ]
    },
    {
      "cell_type": "code",
      "metadata": {
        "colab": {
          "base_uri": "https://localhost:8080/"
        },
        "id": "srwGRREWhPu3",
        "outputId": "b05873f3-72e9-404d-b136-459683bbbf59"
      },
      "source": [
        "model.predict(np.array([[img]])).argmax()"
      ],
      "execution_count": null,
      "outputs": [
        {
          "output_type": "execute_result",
          "data": {
            "text/plain": [
              "2"
            ]
          },
          "metadata": {
            "tags": []
          },
          "execution_count": 32
        }
      ]
    },
    {
      "cell_type": "code",
      "metadata": {
        "id": "66-f51uGhRoZ"
      },
      "source": [
        ""
      ],
      "execution_count": null,
      "outputs": []
    }
  ]
}