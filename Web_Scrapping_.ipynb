{
  "nbformat": 4,
  "nbformat_minor": 0,
  "metadata": {
    "colab": {
      "name": "Web Scrapping .ipynb",
      "provenance": [],
      "authorship_tag": "ABX9TyOn1NLd+kUUdEFx688x3w3h",
      "include_colab_link": true
    },
    "kernelspec": {
      "name": "python3",
      "display_name": "Python 3"
    }
  },
  "cells": [
    {
      "cell_type": "markdown",
      "metadata": {
        "id": "view-in-github",
        "colab_type": "text"
      },
      "source": [
        "<a href=\"https://colab.research.google.com/github/nikhilv2/Machine-Learning/blob/main/Web_Scrapping_.ipynb\" target=\"_parent\"><img src=\"https://colab.research.google.com/assets/colab-badge.svg\" alt=\"Open In Colab\"/></a>"
      ]
    },
    {
      "cell_type": "code",
      "metadata": {
        "id": "C7mGmD5GN99B"
      },
      "source": [
        "import requests \n",
        "from bs4 import BeautifulSoup"
      ],
      "execution_count": null,
      "outputs": []
    },
    {
      "cell_type": "code",
      "metadata": {
        "id": "qxTFMqzqOVb0"
      },
      "source": [
        "url = \"http://15.206.143.222/webscrap/demo3.html\""
      ],
      "execution_count": null,
      "outputs": []
    },
    {
      "cell_type": "code",
      "metadata": {
        "colab": {
          "base_uri": "https://localhost:8080/"
        },
        "id": "rq8appv7OpBT",
        "outputId": "e8913b6b-a859-4ed6-9c14-67496c10f4f8"
      },
      "source": [
        "page = requests.get(url)\n",
        "page                ##check the response if the response is 200. (means good to go)"
      ],
      "execution_count": null,
      "outputs": [
        {
          "output_type": "execute_result",
          "data": {
            "text/plain": [
              "<Response [200]>"
            ]
          },
          "metadata": {
            "tags": []
          },
          "execution_count": 5
        }
      ]
    },
    {
      "cell_type": "code",
      "metadata": {
        "colab": {
          "base_uri": "https://localhost:8080/"
        },
        "id": "IPtnyUeoOvPt",
        "outputId": "05553043-3c8f-4c06-d4db-842307c5b572"
      },
      "source": [
        "page.content"
      ],
      "execution_count": null,
      "outputs": [
        {
          "output_type": "execute_result",
          "data": {
            "text/plain": [
              "b'<html>\\n<head>\\n<title>A simple page</title>\\n</head>\\n<body>\\n<div>\\n<p class=\"inner-text first-item\" id=\"first\">\\nFirst paragraph.\\n</p>\\n<p class=\"inner-text\">\\nSecond paragraph.\\n</p>\\n</div>\\n<p class=\"outer-text first-item\" id=\"second\">\\n<b>\\nFirst outer paragraph.\\n</b>\\n</p>\\n<p class=\"outer-text\">\\n<b>\\nSecond outer paragraph.\\n</b>\\n</p>\\n<a href = \\'http://www.google.com\\' id=\\'link1\\'>Google</a>\\n<a href = \\'http://www.facebook.com\\' id=\\'link2\\'>Facebook</a>\\n<a href = \\'http://www.instagram.com\\' id=\\'link3\\'>Instagram</a>\\n</body>\\n</html>'"
            ]
          },
          "metadata": {
            "tags": []
          },
          "execution_count": 7
        }
      ]
    },
    {
      "cell_type": "code",
      "metadata": {
        "colab": {
          "base_uri": "https://localhost:8080/"
        },
        "id": "SpHdkaZeO8u0",
        "outputId": "96de4bdf-2fcb-4f65-8796-bf9a273c6acb"
      },
      "source": [
        "soup = BeautifulSoup(page.content,\"html.parser\")\n",
        "print(soup.prettify)                      ##converting to proper html format"
      ],
      "execution_count": null,
      "outputs": [
        {
          "output_type": "stream",
          "text": [
            "<bound method Tag.prettify of <html>\n",
            "<head>\n",
            "<title>A simple page</title>\n",
            "</head>\n",
            "<body>\n",
            "<div>\n",
            "<p class=\"inner-text first-item\" id=\"first\">\n",
            "First paragraph.\n",
            "</p>\n",
            "<p class=\"inner-text\">\n",
            "Second paragraph.\n",
            "</p>\n",
            "</div>\n",
            "<p class=\"outer-text first-item\" id=\"second\">\n",
            "<b>\n",
            "First outer paragraph.\n",
            "</b>\n",
            "</p>\n",
            "<p class=\"outer-text\">\n",
            "<b>\n",
            "Second outer paragraph.\n",
            "</b>\n",
            "</p>\n",
            "<a href=\"http://www.google.com\" id=\"link1\">Google</a>\n",
            "<a href=\"http://www.facebook.com\" id=\"link2\">Facebook</a>\n",
            "<a href=\"http://www.instagram.com\" id=\"link3\">Instagram</a>\n",
            "</body>\n",
            "</html>>\n"
          ],
          "name": "stdout"
        }
      ]
    },
    {
      "cell_type": "code",
      "metadata": {
        "colab": {
          "base_uri": "https://localhost:8080/"
        },
        "id": "wsP1uFdiQKAK",
        "outputId": "22c03c0d-5c80-43b7-ee3e-efa8cfea6578"
      },
      "source": [
        "## search data by tag name\n",
        "soup.find('p')           ## here we are searching for p tag. hence output is first p tag"
      ],
      "execution_count": null,
      "outputs": [
        {
          "output_type": "execute_result",
          "data": {
            "text/plain": [
              "<p class=\"inner-text first-item\" id=\"first\">\n",
              "First paragraph.\n",
              "</p>"
            ]
          },
          "metadata": {
            "tags": []
          },
          "execution_count": 10
        }
      ]
    },
    {
      "cell_type": "code",
      "metadata": {
        "colab": {
          "base_uri": "https://localhost:8080/"
        },
        "id": "ReXbi_rkRm5O",
        "outputId": "8f1587d4-c5bc-4d42-c20d-fabcb945c6ef"
      },
      "source": [
        "soup.find('b')"
      ],
      "execution_count": null,
      "outputs": [
        {
          "output_type": "execute_result",
          "data": {
            "text/plain": [
              "<b>\n",
              "First outer paragraph.\n",
              "</b>"
            ]
          },
          "metadata": {
            "tags": []
          },
          "execution_count": 11
        }
      ]
    },
    {
      "cell_type": "code",
      "metadata": {
        "colab": {
          "base_uri": "https://localhost:8080/"
        },
        "id": "ytVyAOmQRpR0",
        "outputId": "1d97bfde-7e31-4a35-a331-c198c059b490"
      },
      "source": [
        "soup.find_all('p')    ## every p tag is shown in findall"
      ],
      "execution_count": null,
      "outputs": [
        {
          "output_type": "execute_result",
          "data": {
            "text/plain": [
              "[<p class=\"inner-text first-item\" id=\"first\">\n",
              " First paragraph.\n",
              " </p>, <p class=\"inner-text\">\n",
              " Second paragraph.\n",
              " </p>, <p class=\"outer-text first-item\" id=\"second\">\n",
              " <b>\n",
              " First outer paragraph.\n",
              " </b>\n",
              " </p>, <p class=\"outer-text\">\n",
              " <b>\n",
              " Second outer paragraph.\n",
              " </b>\n",
              " </p>]"
            ]
          },
          "metadata": {
            "tags": []
          },
          "execution_count": 12
        }
      ]
    },
    {
      "cell_type": "code",
      "metadata": {
        "colab": {
          "base_uri": "https://localhost:8080/"
        },
        "id": "C26i032rRwrU",
        "outputId": "4badd9cb-97a5-43ab-afe1-710557c01ce8"
      },
      "source": [
        "##searching the data by class and id\n",
        "soup.find_all('p',id='first')"
      ],
      "execution_count": null,
      "outputs": [
        {
          "output_type": "execute_result",
          "data": {
            "text/plain": [
              "[<p class=\"inner-text first-item\" id=\"first\">\n",
              " First paragraph.\n",
              " </p>]"
            ]
          },
          "metadata": {
            "tags": []
          },
          "execution_count": 13
        }
      ]
    },
    {
      "cell_type": "code",
      "metadata": {
        "colab": {
          "base_uri": "https://localhost:8080/"
        },
        "id": "4OOSWHDpUYl2",
        "outputId": "66572284-71f4-40d7-907c-26d75990421a"
      },
      "source": [
        "soup.find_all(id='first')"
      ],
      "execution_count": null,
      "outputs": [
        {
          "output_type": "execute_result",
          "data": {
            "text/plain": [
              "[<p class=\"inner-text first-item\" id=\"first\">\n",
              " First paragraph.\n",
              " </p>]"
            ]
          },
          "metadata": {
            "tags": []
          },
          "execution_count": 14
        }
      ]
    },
    {
      "cell_type": "code",
      "metadata": {
        "colab": {
          "base_uri": "https://localhost:8080/"
        },
        "id": "vRgDsMdsUaN7",
        "outputId": "9f922081-cb8d-4fb9-e190-ae3a7255d7f2"
      },
      "source": [
        "soup.find_all(\"p\",class_=\"inner-text\")"
      ],
      "execution_count": null,
      "outputs": [
        {
          "output_type": "execute_result",
          "data": {
            "text/plain": [
              "[<p class=\"inner-text first-item\" id=\"first\">\n",
              " First paragraph.\n",
              " </p>, <p class=\"inner-text\">\n",
              " Second paragraph.\n",
              " </p>]"
            ]
          },
          "metadata": {
            "tags": []
          },
          "execution_count": 15
        }
      ]
    },
    {
      "cell_type": "code",
      "metadata": {
        "colab": {
          "base_uri": "https://localhost:8080/"
        },
        "id": "WDY4JuWEUb7r",
        "outputId": "157149e8-d153-4e6c-cb8c-6667c19055cc"
      },
      "source": [
        "soup.find_all(class_=\"inner-text\")\n"
      ],
      "execution_count": null,
      "outputs": [
        {
          "output_type": "execute_result",
          "data": {
            "text/plain": [
              "[<p class=\"inner-text first-item\" id=\"first\">\n",
              " First paragraph.\n",
              " </p>, <p class=\"inner-text\">\n",
              " Second paragraph.\n",
              " </p>]"
            ]
          },
          "metadata": {
            "tags": []
          },
          "execution_count": 16
        }
      ]
    },
    {
      "cell_type": "code",
      "metadata": {
        "colab": {
          "base_uri": "https://localhost:8080/"
        },
        "id": "-RMF3DaZUepr",
        "outputId": "447efd06-3192-48f2-a41f-26fa5f995e06"
      },
      "source": [
        "soup.find_all(class_=\"inner-text first-item\")"
      ],
      "execution_count": null,
      "outputs": [
        {
          "output_type": "execute_result",
          "data": {
            "text/plain": [
              "[<p class=\"inner-text first-item\" id=\"first\">\n",
              " First paragraph.\n",
              " </p>]"
            ]
          },
          "metadata": {
            "tags": []
          },
          "execution_count": 17
        }
      ]
    },
    {
      "cell_type": "code",
      "metadata": {
        "id": "-iepNDJVUgfW"
      },
      "source": [
        "### another way of searching"
      ],
      "execution_count": null,
      "outputs": []
    },
    {
      "cell_type": "code",
      "metadata": {
        "colab": {
          "base_uri": "https://localhost:8080/"
        },
        "id": "MrAv-BOQVddQ",
        "outputId": "6de27370-7ac4-4667-c5c0-387aeed468cb"
      },
      "source": [
        "soup.select(\"p\")"
      ],
      "execution_count": null,
      "outputs": [
        {
          "output_type": "execute_result",
          "data": {
            "text/plain": [
              "[<p class=\"inner-text first-item\" id=\"first\">\n",
              " First paragraph.\n",
              " </p>, <p class=\"inner-text\">\n",
              " Second paragraph.\n",
              " </p>, <p class=\"outer-text first-item\" id=\"second\">\n",
              " <b>\n",
              " First outer paragraph.\n",
              " </b>\n",
              " </p>, <p class=\"outer-text\">\n",
              " <b>\n",
              " Second outer paragraph.\n",
              " </b>\n",
              " </p>]"
            ]
          },
          "metadata": {
            "tags": []
          },
          "execution_count": 19
        }
      ]
    },
    {
      "cell_type": "code",
      "metadata": {
        "colab": {
          "base_uri": "https://localhost:8080/"
        },
        "id": "0se-qwWhVgM-",
        "outputId": "102fbe32-e053-41a3-9930-ee0c3799e192"
      },
      "source": [
        "soup.select(\"p b\")"
      ],
      "execution_count": null,
      "outputs": [
        {
          "output_type": "execute_result",
          "data": {
            "text/plain": [
              "[<b>\n",
              " First outer paragraph.\n",
              " </b>, <b>\n",
              " Second outer paragraph.\n",
              " </b>]"
            ]
          },
          "metadata": {
            "tags": []
          },
          "execution_count": 20
        }
      ]
    },
    {
      "cell_type": "code",
      "metadata": {
        "colab": {
          "base_uri": "https://localhost:8080/"
        },
        "id": "oFNVOTWJWLZP",
        "outputId": "74c8fcfa-a2ff-475f-e475-944e408b7f7b"
      },
      "source": [
        "soup.select(\"p#second b\")   ## id"
      ],
      "execution_count": null,
      "outputs": [
        {
          "output_type": "execute_result",
          "data": {
            "text/plain": [
              "[<b>\n",
              " First outer paragraph.\n",
              " </b>]"
            ]
          },
          "metadata": {
            "tags": []
          },
          "execution_count": 21
        }
      ]
    },
    {
      "cell_type": "code",
      "metadata": {
        "colab": {
          "base_uri": "https://localhost:8080/"
        },
        "id": "DeZK8qGrWQAW",
        "outputId": "d696188e-cd41-41b0-8753-eb208470964e"
      },
      "source": [
        "soup.select(\"p.first-item b\")"
      ],
      "execution_count": null,
      "outputs": [
        {
          "output_type": "execute_result",
          "data": {
            "text/plain": [
              "[<b>\n",
              " First outer paragraph.\n",
              " </b>]"
            ]
          },
          "metadata": {
            "tags": []
          },
          "execution_count": 22
        }
      ]
    },
    {
      "cell_type": "code",
      "metadata": {
        "colab": {
          "base_uri": "https://localhost:8080/"
        },
        "id": "Nh0m8SIzWaA0",
        "outputId": "86229cb1-0da9-41d7-fdcc-a2d1b73ddcaf"
      },
      "source": [
        "soup.select(\"body p.first-item b\")"
      ],
      "execution_count": null,
      "outputs": [
        {
          "output_type": "execute_result",
          "data": {
            "text/plain": [
              "[<b>\n",
              " First outer paragraph.\n",
              " </b>]"
            ]
          },
          "metadata": {
            "tags": []
          },
          "execution_count": 23
        }
      ]
    },
    {
      "cell_type": "code",
      "metadata": {
        "colab": {
          "base_uri": "https://localhost:8080/"
        },
        "id": "WPpYaWq1Wekh",
        "outputId": "e324839d-c95a-45f1-ea56-ecc3e90f7cd6"
      },
      "source": [
        "soup.select(\"p\")[0]"
      ],
      "execution_count": null,
      "outputs": [
        {
          "output_type": "execute_result",
          "data": {
            "text/plain": [
              "<p class=\"inner-text first-item\" id=\"first\">\n",
              "First paragraph.\n",
              "</p>"
            ]
          },
          "metadata": {
            "tags": []
          },
          "execution_count": 24
        }
      ]
    },
    {
      "cell_type": "code",
      "metadata": {
        "colab": {
          "base_uri": "https://localhost:8080/",
          "height": 35
        },
        "id": "-3EzItvtYUfg",
        "outputId": "d78268be-509a-402b-f30c-c42faa79111d"
      },
      "source": [
        "soup.select(\"p\")[0].get_text().strip(\"\\n\")"
      ],
      "execution_count": null,
      "outputs": [
        {
          "output_type": "execute_result",
          "data": {
            "application/vnd.google.colaboratory.intrinsic+json": {
              "type": "string"
            },
            "text/plain": [
              "'First paragraph.'"
            ]
          },
          "metadata": {
            "tags": []
          },
          "execution_count": 25
        }
      ]
    },
    {
      "cell_type": "code",
      "metadata": {
        "colab": {
          "base_uri": "https://localhost:8080/"
        },
        "id": "IC6bFpGBYWAT",
        "outputId": "4623a96c-ea6d-4008-eb6c-a229c9ef9bd3"
      },
      "source": [
        "soup.select('a')"
      ],
      "execution_count": null,
      "outputs": [
        {
          "output_type": "execute_result",
          "data": {
            "text/plain": [
              "[<a href=\"http://www.google.com\" id=\"link1\">Google</a>,\n",
              " <a href=\"http://www.facebook.com\" id=\"link2\">Facebook</a>,\n",
              " <a href=\"http://www.instagram.com\" id=\"link3\">Instagram</a>]"
            ]
          },
          "metadata": {
            "tags": []
          },
          "execution_count": 26
        }
      ]
    },
    {
      "cell_type": "code",
      "metadata": {
        "colab": {
          "base_uri": "https://localhost:8080/",
          "height": 35
        },
        "id": "KlpKDgmiYXeu",
        "outputId": "40d8b7e2-6f17-46e3-99e0-58c2e26ce86c"
      },
      "source": [
        "fb = soup.select('a')[1].get_text()\n",
        "fb"
      ],
      "execution_count": null,
      "outputs": [
        {
          "output_type": "execute_result",
          "data": {
            "application/vnd.google.colaboratory.intrinsic+json": {
              "type": "string"
            },
            "text/plain": [
              "'Facebook'"
            ]
          },
          "metadata": {
            "tags": []
          },
          "execution_count": 27
        }
      ]
    },
    {
      "cell_type": "code",
      "metadata": {
        "colab": {
          "base_uri": "https://localhost:8080/",
          "height": 35
        },
        "id": "JKF8C9VbYZ8z",
        "outputId": "7dfd5c8a-82e2-4db9-ce02-4fe386900bcb"
      },
      "source": [
        "fb_url = soup.select('a')[1].get(\"href\")\n",
        "fb_url"
      ],
      "execution_count": null,
      "outputs": [
        {
          "output_type": "execute_result",
          "data": {
            "application/vnd.google.colaboratory.intrinsic+json": {
              "type": "string"
            },
            "text/plain": [
              "'http://www.facebook.com'"
            ]
          },
          "metadata": {
            "tags": []
          },
          "execution_count": 28
        }
      ]
    },
    {
      "cell_type": "code",
      "metadata": {
        "colab": {
          "base_uri": "https://localhost:8080/",
          "height": 35
        },
        "id": "Fcftr1ztYcIl",
        "outputId": "45d57bd6-3edd-47d0-f062-6f57aa4558cb"
      },
      "source": [
        "fb_id = soup.select('a')[1].get(\"id\")\n",
        "fb_id"
      ],
      "execution_count": null,
      "outputs": [
        {
          "output_type": "execute_result",
          "data": {
            "application/vnd.google.colaboratory.intrinsic+json": {
              "type": "string"
            },
            "text/plain": [
              "'link2'"
            ]
          },
          "metadata": {
            "tags": []
          },
          "execution_count": 29
        }
      ]
    },
    {
      "cell_type": "code",
      "metadata": {
        "id": "-WKGxgdtYeKz"
      },
      "source": [
        ""
      ],
      "execution_count": null,
      "outputs": []
    }
  ]
}