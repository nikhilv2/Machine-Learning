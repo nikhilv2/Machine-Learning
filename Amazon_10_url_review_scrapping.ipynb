{
  "nbformat": 4,
  "nbformat_minor": 0,
  "metadata": {
    "colab": {
      "name": "Amazon 10 url review scrapping.ipynb",
      "provenance": [],
      "authorship_tag": "ABX9TyND5H3RoH1BEGzzpwsV30vG",
      "include_colab_link": true
    },
    "kernelspec": {
      "name": "python3",
      "display_name": "Python 3"
    }
  },
  "cells": [
    {
      "cell_type": "markdown",
      "metadata": {
        "id": "view-in-github",
        "colab_type": "text"
      },
      "source": [
        "<a href=\"https://colab.research.google.com/github/nikhilv2/Machine-Learning/blob/main/Amazon_10_url_review_scrapping.ipynb\" target=\"_parent\"><img src=\"https://colab.research.google.com/assets/colab-badge.svg\" alt=\"Open In Colab\"/></a>"
      ]
    },
    {
      "cell_type": "code",
      "metadata": {
        "id": "iQzncJ2e9vQJ"
      },
      "source": [
        "import requests\r\n",
        "from bs4 import BeautifulSoup"
      ],
      "execution_count": null,
      "outputs": []
    },
    {
      "cell_type": "code",
      "metadata": {
        "id": "UdI7F5TG9wiH"
      },
      "source": [
        "import pandas as pd\r\n",
        "import numpy as np\r\n",
        "\r\n",
        "\r\n"
      ],
      "execution_count": null,
      "outputs": []
    },
    {
      "cell_type": "code",
      "metadata": {
        "id": "zjV4w_Kt9118"
      },
      "source": [
        "cust_name = []\r\n",
        "cust_rating = []\r\n",
        "rev_date = []\r\n",
        "rev_title = []\r\n",
        "rev_text = []"
      ],
      "execution_count": null,
      "outputs": []
    },
    {
      "cell_type": "code",
      "metadata": {
        "id": "aLqtS6_z98K-"
      },
      "source": [
        "for link in range(1,11):\r\n",
        "  link = requests.get(\"https://www.amazon.in/Metallic-Storage-Additional-Exchange-Offers/product-reviews/B089MTC7B5/ref=cm_cr_getr_d_paging_btm_prev_1?ie=UTF8&reviewerType=all_reviews&pageNumber=\" + str(link))\r\n",
        "  a = str(link)\r\n",
        "  if a == \"<Response [200]>\":\r\n",
        "    soup =BeautifulSoup(link.content,'html.parser')\r\n",
        "    names=soup.select(\"span.a-profile-name\")\r\n",
        "    star = soup.select(\"span.a-icon-alt\")\r\n",
        "    titles = soup.select(\"a.review-title span\")\r\n",
        "    date = soup.select(\"span.review-date\")\r\n",
        "    reviews = soup.select(\"span.review-text span\")\r\n",
        "    for j in range(10):\r\n",
        "      cust_name.append(names[j].get_text())\r\n",
        "      cust_rating.append(star[j].get_text().rstrip(\" out of 5 stars\"))\r\n",
        "      rev_date.append(date[j].get_text().lstrip(\"Reviews in India on \"))\r\n",
        "      rev_title.append(titles[j].get_text())\r\n",
        "      rev_text.append(reviews[j].get_text().strip(\"\\n \"))"
      ],
      "execution_count": null,
      "outputs": []
    },
    {
      "cell_type": "code",
      "metadata": {
        "colab": {
          "base_uri": "https://localhost:8080/",
          "height": 406
        },
        "id": "xi8JwLS09_KH",
        "outputId": "83e2da3c-9a5d-4d2e-b6dc-e5ba3b1e8fa2"
      },
      "source": [
        "df =pd.DataFrame()\r\n",
        "df.fillna(\"NA\",inplace=True)\r\n",
        "df['Date']=rev_date\r\n",
        "df['Customer Name']=cust_name\r\n",
        "df['Rating']=cust_rating\r\n",
        "df['Title']=rev_title\r\n",
        "df['Review']=rev_text\r\n",
        "df"
      ],
      "execution_count": null,
      "outputs": [
        {
          "output_type": "execute_result",
          "data": {
            "text/html": [
              "<div>\n",
              "<style scoped>\n",
              "    .dataframe tbody tr th:only-of-type {\n",
              "        vertical-align: middle;\n",
              "    }\n",
              "\n",
              "    .dataframe tbody tr th {\n",
              "        vertical-align: top;\n",
              "    }\n",
              "\n",
              "    .dataframe thead th {\n",
              "        text-align: right;\n",
              "    }\n",
              "</style>\n",
              "<table border=\"1\" class=\"dataframe\">\n",
              "  <thead>\n",
              "    <tr style=\"text-align: right;\">\n",
              "      <th></th>\n",
              "      <th>Date</th>\n",
              "      <th>Customer Name</th>\n",
              "      <th>Rating</th>\n",
              "      <th>Title</th>\n",
              "      <th>Review</th>\n",
              "    </tr>\n",
              "  </thead>\n",
              "  <tbody>\n",
              "    <tr>\n",
              "      <th>0</th>\n",
              "      <td>7 September 2020</td>\n",
              "      <td>Saroj chhetri</td>\n",
              "      <td>2.0</td>\n",
              "      <td>Waste of money</td>\n",
              "      <td>Not so good phone waste of moneyDisplay-10/10 ...</td>\n",
              "    </tr>\n",
              "    <tr>\n",
              "      <th>1</th>\n",
              "      <td>10 September 2020</td>\n",
              "      <td>Adnan Shaikh</td>\n",
              "      <td>4.0</td>\n",
              "      <td>A very strong phone</td>\n",
              "      <td>So, I ended up ordering this for my mother. I ...</td>\n",
              "    </tr>\n",
              "    <tr>\n",
              "      <th>2</th>\n",
              "      <td>16 September 2020</td>\n",
              "      <td>Sharanya Maity</td>\n",
              "      <td>5.0</td>\n",
              "      <td>It's love</td>\n",
              "      <td>Nice camera , nice display, nice battary ❤️❤️❤️</td>\n",
              "    </tr>\n",
              "    <tr>\n",
              "      <th>3</th>\n",
              "      <td>8 September 2020</td>\n",
              "      <td>abh</td>\n",
              "      <td>5.0</td>\n",
              "      <td>Sleek and trendy</td>\n",
              "      <td>My initial thoughts of the productDesign 5/5 -...</td>\n",
              "    </tr>\n",
              "    <tr>\n",
              "      <th>4</th>\n",
              "      <td>9 September 2020</td>\n",
              "      <td>Dhir Sahab</td>\n",
              "      <td>5.0</td>\n",
              "      <td>Good Product!!</td>\n",
              "      <td>Good deviceBattery backup is goodFast Charging...</td>\n",
              "    </tr>\n",
              "    <tr>\n",
              "      <th>...</th>\n",
              "      <td>...</td>\n",
              "      <td>...</td>\n",
              "      <td>...</td>\n",
              "      <td>...</td>\n",
              "      <td>...</td>\n",
              "    </tr>\n",
              "    <tr>\n",
              "      <th>65</th>\n",
              "      <td>7 November 2020</td>\n",
              "      <td>Shubham T.</td>\n",
              "      <td>3.0</td>\n",
              "      <td>Nice phone but need some improvement</td>\n",
              "      <td>This is good mobile with certain pros and cons...</td>\n",
              "    </tr>\n",
              "    <tr>\n",
              "      <th>66</th>\n",
              "      <td>13 September 2020</td>\n",
              "      <td>Jannila</td>\n",
              "      <td>2.0</td>\n",
              "      <td>Not value for money</td>\n",
              "      <td>There are so many features that are disappinti...</td>\n",
              "    </tr>\n",
              "    <tr>\n",
              "      <th>67</th>\n",
              "      <td>3 October 2020</td>\n",
              "      <td>Sandip</td>\n",
              "      <td>5.0</td>\n",
              "      <td>Camera Quality too bad...</td>\n",
              "      <td>Earlier I used Vivo V9....Its camera is far be...</td>\n",
              "    </tr>\n",
              "    <tr>\n",
              "      <th>68</th>\n",
              "      <td>19 October 2020</td>\n",
              "      <td>Sohail Qureshi</td>\n",
              "      <td>4.0</td>\n",
              "      <td>Reasonable price but gained so much save, rece...</td>\n",
              "      <td>Like.But there is a problem or dispute arising...</td>\n",
              "    </tr>\n",
              "    <tr>\n",
              "      <th>69</th>\n",
              "      <td>17 September 2020</td>\n",
              "      <td>Khan</td>\n",
              "      <td>2.0</td>\n",
              "      <td>For the first time Bad experience with Amazon ...</td>\n",
              "      <td>It is having worst camera and worst performanc...</td>\n",
              "    </tr>\n",
              "  </tbody>\n",
              "</table>\n",
              "<p>70 rows × 5 columns</p>\n",
              "</div>"
            ],
            "text/plain": [
              "                 Date  ...                                             Review\n",
              "0    7 September 2020  ...  Not so good phone waste of moneyDisplay-10/10 ...\n",
              "1   10 September 2020  ...  So, I ended up ordering this for my mother. I ...\n",
              "2   16 September 2020  ...    Nice camera , nice display, nice battary ❤️❤️❤️\n",
              "3    8 September 2020  ...  My initial thoughts of the productDesign 5/5 -...\n",
              "4    9 September 2020  ...  Good deviceBattery backup is goodFast Charging...\n",
              "..                ...  ...                                                ...\n",
              "65    7 November 2020  ...  This is good mobile with certain pros and cons...\n",
              "66  13 September 2020  ...  There are so many features that are disappinti...\n",
              "67     3 October 2020  ...  Earlier I used Vivo V9....Its camera is far be...\n",
              "68    19 October 2020  ...  Like.But there is a problem or dispute arising...\n",
              "69  17 September 2020  ...  It is having worst camera and worst performanc...\n",
              "\n",
              "[70 rows x 5 columns]"
            ]
          },
          "metadata": {
            "tags": []
          },
          "execution_count": 13
        }
      ]
    },
    {
      "cell_type": "code",
      "metadata": {
        "id": "M5Qp7Q6l-gRF"
      },
      "source": [
        "df.to_csv(\"Product review\")"
      ],
      "execution_count": null,
      "outputs": []
    },
    {
      "cell_type": "code",
      "metadata": {
        "id": "YLHh4kPR_COj"
      },
      "source": [
        ""
      ],
      "execution_count": null,
      "outputs": []
    }
  ]
}