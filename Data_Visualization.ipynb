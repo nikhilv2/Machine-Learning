{
  "nbformat": 4,
  "nbformat_minor": 0,
  "metadata": {
    "colab": {
      "name": "4th Dec - Data Visualization.ipynb",
      "provenance": [],
      "collapsed_sections": [],
      "include_colab_link": true
    },
    "kernelspec": {
      "name": "python3",
      "display_name": "Python 3"
    }
  },
  "cells": [
    {
      "cell_type": "markdown",
      "metadata": {
        "id": "view-in-github",
        "colab_type": "text"
      },
      "source": [
        "<a href=\"https://colab.research.google.com/github/nikhilv2/Machine-Learning/blob/main/Data_Visualization.ipynb\" target=\"_parent\"><img src=\"https://colab.research.google.com/assets/colab-badge.svg\" alt=\"Open In Colab\"/></a>"
      ]
    },
    {
      "cell_type": "code",
      "metadata": {
        "id": "XN1iimRHDkkA"
      },
      "source": [
        "import matplotlib.pyplot as plt"
      ],
      "execution_count": null,
      "outputs": []
    },
    {
      "cell_type": "code",
      "metadata": {
        "id": "U3o0FAm9DwCC"
      },
      "source": [
        "### Line Plot Graph\n",
        "x = [1,2,3,4,5,6]\n",
        "y = [10,30,20,40,78,60]\n",
        "plt.figure(figsize=(8,4))\n",
        "plt.title(\"Line Graph\")\n",
        "plt.xlabel(\"Time\")\n",
        "plt.ylabel(\"Sales\")\n",
        "plt.plot(x,y,label=\"Sales vs Day Graph\",color='red',lw=3,linestyle=\"dotted\")\n",
        "plt.legend(loc='best')\n",
        "plt.show()"
      ],
      "execution_count": null,
      "outputs": []
    },
    {
      "cell_type": "code",
      "metadata": {
        "id": "Dw3nJup6EYhU"
      },
      "source": [
        "### Scatter Plot Graph\n",
        "x = [1,2,3,4,5,6]\n",
        "y = [10,30,20,40,78,60]\n",
        "plt.figure(figsize=(8,4))\n",
        "plt.title(\"Scatter Graph\")\n",
        "plt.xlabel(\"Time\")\n",
        "plt.ylabel(\"Sales\")\n",
        "plt.scatter(x,y,label=\"Sales vs Day Graph\",color='red',s=120,marker=\"*\")\n",
        "plt.legend(loc='best')\n",
        "plt.show()"
      ],
      "execution_count": null,
      "outputs": []
    },
    {
      "cell_type": "code",
      "metadata": {
        "id": "68eQk77-GgRR"
      },
      "source": [
        "### Scatter Plot Graph\n",
        "x = [1,2,3,4,5,6]\n",
        "y = [10,30,20,40,78,60]\n",
        "plt.figure(figsize=(8,4))\n",
        "plt.title(\"Scatter Graph\")\n",
        "plt.xlabel(\"Time\")\n",
        "plt.ylabel(\"Sales\")\n",
        "plt.scatter(x,y,label=\"Sales vs Day Graph\",color='orange',s=250,marker=\"*\")\n",
        "plt.plot(x,y,label=\"Sales vs Day Graph\",color='red',lw=3,linestyle=\"dotted\")\n",
        "plt.legend(loc='best')\n",
        "plt.show()"
      ],
      "execution_count": null,
      "outputs": []
    },
    {
      "cell_type": "code",
      "metadata": {
        "id": "aFn9VCfvGxHf"
      },
      "source": [
        "### Bar Plot Graph\n",
        "x = [1,2,3,4,5,6]\n",
        "y = [10,30,20,40,78,60]\n",
        "plt.figure(figsize=(8,4))\n",
        "plt.title(\"Bar Graph\")\n",
        "plt.xlabel(\"Time\")\n",
        "plt.ylabel(\"Sales\")\n",
        "plt.bar(x,y,label=\"Sales vs Day Graph\",color='orange',width=0.5)\n",
        "plt.legend(loc='best')\n",
        "plt.show()"
      ],
      "execution_count": null,
      "outputs": []
    },
    {
      "cell_type": "code",
      "metadata": {
        "id": "f4FjUEwPIKZ4"
      },
      "source": [
        "### Horizontal Bar Plot Graph\n",
        "x = [1,2,3,4,5,6]\n",
        "y = [10,30,20,40,78,60]\n",
        "plt.figure(figsize=(8,4))\n",
        "plt.title(\"Bar Graph\")\n",
        "plt.xlabel(\"Time\")\n",
        "plt.ylabel(\"Sales\")\n",
        "plt.barh(x,y,label=\"Sales vs Day Graph\",color='orange')\n",
        "plt.legend(loc='best')\n",
        "plt.show()"
      ],
      "execution_count": null,
      "outputs": []
    },
    {
      "cell_type": "code",
      "metadata": {
        "id": "CvVA2c90IRB2"
      },
      "source": [
        "### Histogram\n",
        "import numpy as np\n",
        "np.random.seed(10)\n",
        "data = np.random.randint(1,100,60)\n",
        "plt.hist(data,rwidth=0.9)\n",
        "plt.show()\n",
        "data"
      ],
      "execution_count": null,
      "outputs": []
    },
    {
      "cell_type": "code",
      "metadata": {
        "id": "IDJZ5fH7JgV2"
      },
      "source": [
        "## Pie Chart\n",
        "slices = [10,80,78,45,68]\n",
        "names = [\"A\",\"B\",\"C\",\"D\",\"E\"]\n",
        "plt.figure(figsize=(6,6))\n",
        "col = [\"purple\",\"blue\",\"orange\",\"red\",\"green\"]\n",
        "plt.pie(slices,labels=names,colors=col,autopct=\"%0.2f%%\",\n",
        "        explode=(0.3,0,0,0.4,0),shadow=True)\n",
        "plt.show()"
      ],
      "execution_count": null,
      "outputs": []
    },
    {
      "cell_type": "code",
      "metadata": {
        "id": "sSpz-rP0LSfK"
      },
      "source": [
        "### Sub Plot"
      ],
      "execution_count": null,
      "outputs": []
    },
    {
      "cell_type": "code",
      "metadata": {
        "colab": {
          "base_uri": "https://localhost:8080/",
          "height": 470
        },
        "id": "WCIvIKsJMya0",
        "outputId": "9dd32f00-cd18-4b94-8bec-eac0c146c69b"
      },
      "source": [
        "x = [1,2,3,4,5,6]\n",
        "y = [10,30,20,40,78,60]\n",
        "plt.figure(figsize=(12,12))\n",
        "plt.xlabel(\"Time\")\n",
        "plt.ylabel(\"Sales\")\n",
        "plt.subplot(3,3,1)\n",
        "plt.scatter(x,y,label=\"Sales vs Day Graph\",color='red',s=120,marker=\"*\")\n",
        "plt.legend(loc='best')\n",
        "\n",
        "x = [1,2,3,4,5,6]\n",
        "y = [10,30,20,40,78,60]\n",
        "plt.xlabel(\"Time\")\n",
        "plt.ylabel(\"Sales\")\n",
        "plt.subplot(3,3,3)\n",
        "plt.bar(x,y,label=\"Sales vs Day Graph\",color='orange',width=0.5)\n",
        "plt.legend(loc='best')\n",
        "\n",
        "import numpy as np\n",
        "np.random.seed(10)\n",
        "data = np.random.randint(1,100,60)\n",
        "plt.subplot(3,3,6)\n",
        "plt.hist(data,rwidth=0.9)\n",
        "\n",
        "slices = [10,80,78,45,68]\n",
        "names = [\"A\",\"B\",\"C\",\"D\",\"E\"]\n",
        "col = [\"purple\",\"blue\",\"orange\",\"red\",\"green\"]\n",
        "plt.subplot(3,3,4)\n",
        "plt.pie(slices,labels=names,colors=col,autopct=\"%0.2f%%\",\n",
        "        explode=(0.3,0,0,0.4,0),shadow=True)\n",
        "plt.savefig(\"mygraph.png\")\n",
        "plt.show()"
      ],
      "execution_count": null,
      "outputs": [
        {
          "output_type": "display_data",
          "data": {
            "image/png": "[encoded data removed]",
            "text/plain": [
              "<Figure size 864x864 with 4 Axes>"
            ]
          },
          "metadata": {
            "tags": [],
            "needs_background": "light"
          }
        }
      ]
    },
    {
      "cell_type": "code",
      "metadata": {
        "id": "aKpIIRC8OVI0"
      },
      "source": [
        ""
      ],
      "execution_count": null,
      "outputs": []
    }
  ]
}