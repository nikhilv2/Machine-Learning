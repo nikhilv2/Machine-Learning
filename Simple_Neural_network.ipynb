{
  "nbformat": 4,
  "nbformat_minor": 0,
  "metadata": {
    "colab": {
      "name": "Simple Neural network.ipynb",
      "provenance": [],
      "authorship_tag": "ABX9TyNi1qvYX5pGZdMyiKnXD6nA",
      "include_colab_link": true
    },
    "kernelspec": {
      "name": "python3",
      "display_name": "Python 3"
    }
  },
  "cells": [
    {
      "cell_type": "markdown",
      "metadata": {
        "id": "view-in-github",
        "colab_type": "text"
      },
      "source": [
        "<a href=\"https://colab.research.google.com/github/nikhilv2/Machine-Learning/blob/main/Simple_Neural_network.ipynb\" target=\"_parent\"><img src=\"https://colab.research.google.com/assets/colab-badge.svg\" alt=\"Open In Colab\"/></a>"
      ]
    },
    {
      "cell_type": "code",
      "metadata": {
        "id": "OXPys29mG1-b"
      },
      "source": [
        "import numpy as np"
      ],
      "execution_count": null,
      "outputs": []
    },
    {
      "cell_type": "code",
      "metadata": {
        "id": "c_RzDnZuG5kf"
      },
      "source": [
        "x = np.array([[0,1,0],[0,1,1],[1,0,0],[1,0,1]])\r\n",
        "y = np.array([[0],[0],[1],[1]])"
      ],
      "execution_count": null,
      "outputs": []
    },
    {
      "cell_type": "code",
      "metadata": {
        "colab": {
          "base_uri": "https://localhost:8080/"
        },
        "id": "TDey84EQIB5H",
        "outputId": "e4485dd9-175d-4e48-9efc-6197adfa0a04"
      },
      "source": [
        "x"
      ],
      "execution_count": null,
      "outputs": [
        {
          "output_type": "execute_result",
          "data": {
            "text/plain": [
              "array([[0, 1, 0],\n",
              "       [0, 1, 1],\n",
              "       [1, 0, 0],\n",
              "       [1, 0, 1]])"
            ]
          },
          "metadata": {
            "tags": []
          },
          "execution_count": 3
        }
      ]
    },
    {
      "cell_type": "code",
      "metadata": {
        "colab": {
          "base_uri": "https://localhost:8080/"
        },
        "id": "aSHFvkFzICRP",
        "outputId": "e7bce8a0-1a45-4821-f271-26feb2ffde4b"
      },
      "source": [
        "y"
      ],
      "execution_count": null,
      "outputs": [
        {
          "output_type": "execute_result",
          "data": {
            "text/plain": [
              "array([[0],\n",
              "       [0],\n",
              "       [1],\n",
              "       [1]])"
            ]
          },
          "metadata": {
            "tags": []
          },
          "execution_count": 4
        }
      ]
    },
    {
      "cell_type": "code",
      "metadata": {
        "colab": {
          "base_uri": "https://localhost:8080/"
        },
        "id": "rKoJcZ6QICos",
        "outputId": "a45b5520-bd37-41b0-e351-f014fec909ca"
      },
      "source": [
        "##Assign the weight (random)\r\n",
        "np.random.seed(10)\r\n",
        "weights = np.random.random((3,1))\r\n",
        "weights"
      ],
      "execution_count": null,
      "outputs": [
        {
          "output_type": "execute_result",
          "data": {
            "text/plain": [
              "array([[0.77132064],\n",
              "       [0.02075195],\n",
              "       [0.63364823]])"
            ]
          },
          "metadata": {
            "tags": []
          },
          "execution_count": 8
        }
      ]
    },
    {
      "cell_type": "code",
      "metadata": {
        "colab": {
          "base_uri": "https://localhost:8080/"
        },
        "id": "TLp37le4I9JP",
        "outputId": "34163b0c-cfc5-4b66-cac5-d1c3c14ddb12"
      },
      "source": [
        "sum = np.dot(x,weights) +.02\r\n",
        "sum"
      ],
      "execution_count": null,
      "outputs": [
        {
          "output_type": "execute_result",
          "data": {
            "text/plain": [
              "array([[0.04075195],\n",
              "       [0.67440018],\n",
              "       [0.79132064],\n",
              "       [1.42496888]])"
            ]
          },
          "metadata": {
            "tags": []
          },
          "execution_count": 9
        }
      ]
    },
    {
      "cell_type": "code",
      "metadata": {
        "id": "jJlBthX9Keud"
      },
      "source": [
        "def activation(x):\r\n",
        "  return 1/(1+np.exp(-x))               ##sigmoid"
      ],
      "execution_count": null,
      "outputs": []
    },
    {
      "cell_type": "code",
      "metadata": {
        "colab": {
          "base_uri": "https://localhost:8080/"
        },
        "id": "O-rq43yFKvm-",
        "outputId": "c37d5d4e-88ef-499e-d9e7-49a05b00d602"
      },
      "source": [
        "ypred = activation(sum)\r\n",
        "ypred"
      ],
      "execution_count": null,
      "outputs": [
        {
          "output_type": "execute_result",
          "data": {
            "text/plain": [
              "array([[0.51018658],\n",
              "       [0.66248773],\n",
              "       [0.68811483],\n",
              "       [0.8061162 ]])"
            ]
          },
          "metadata": {
            "tags": []
          },
          "execution_count": 12
        }
      ]
    },
    {
      "cell_type": "code",
      "metadata": {
        "colab": {
          "base_uri": "https://localhost:8080/"
        },
        "id": "PAMy3TACKxiz",
        "outputId": "6dc615c0-8c0b-49a2-ca0c-00ee7c742c27"
      },
      "source": [
        "ypred.round()"
      ],
      "execution_count": null,
      "outputs": [
        {
          "output_type": "execute_result",
          "data": {
            "text/plain": [
              "array([[1.],\n",
              "       [1.],\n",
              "       [1.],\n",
              "       [1.]])"
            ]
          },
          "metadata": {
            "tags": []
          },
          "execution_count": 13
        }
      ]
    },
    {
      "cell_type": "code",
      "metadata": {
        "id": "J1_2g3ttLE40"
      },
      "source": [
        "def gradient(a,x):\r\n",
        "  return a*x*(1-x)"
      ],
      "execution_count": null,
      "outputs": []
    },
    {
      "cell_type": "code",
      "metadata": {
        "colab": {
          "base_uri": "https://localhost:8080/"
        },
        "id": "L0RqugjkNDFR",
        "outputId": "6273c418-6e96-4a9f-ec88-961b42e322fa"
      },
      "source": [
        "sum = np.dot(x,weights) +.02\r\n",
        "ypred = activation(sum)\r\n",
        "error = y-ypred\r\n",
        "error"
      ],
      "execution_count": null,
      "outputs": [
        {
          "output_type": "execute_result",
          "data": {
            "text/plain": [
              "array([[-0.51018658],\n",
              "       [-0.66248773],\n",
              "       [ 0.31188517],\n",
              "       [ 0.1938838 ]])"
            ]
          },
          "metadata": {
            "tags": []
          },
          "execution_count": 15
        }
      ]
    },
    {
      "cell_type": "code",
      "metadata": {
        "colab": {
          "base_uri": "https://localhost:8080/"
        },
        "id": "OWDPbyJPNOVJ",
        "outputId": "12cf4b90-1045-42d7-9562-5a49df2d0bd2"
      },
      "source": [
        "sum = np.dot(x,weights) +.02\r\n",
        "ypred = activation(sum)\r\n",
        "error = y- ypred\r\n",
        "weight_change = gradient(error,ypred)  #Gradient descent\r\n",
        "weights = weights+ np.dot(x.T,weight_change)                              \r\n",
        "error                                 ## when we run again and again, the error will gradually reduce. so train the text in a loop"
      ],
      "execution_count": null,
      "outputs": [
        {
          "output_type": "execute_result",
          "data": {
            "text/plain": [
              "array([[-0.38144441],\n",
              "       [-0.48099052],\n",
              "       [ 0.27290608],\n",
              "       [ 0.1998431 ]])"
            ]
          },
          "metadata": {
            "tags": []
          },
          "execution_count": 19
        }
      ]
    },
    {
      "cell_type": "code",
      "metadata": {
        "colab": {
          "base_uri": "https://localhost:8080/"
        },
        "id": "fPmLhoshNWEh",
        "outputId": "fbb3d05c-3272-4ebe-b256-4d4dd4de2f22"
      },
      "source": [
        "for i in range(500):                         ### Training the model for 500 times to reduce the error\r\n",
        "  sum = np.dot(x,weights) +.02 \r\n",
        "  ypred = activation(sum)\r\n",
        "  error = y- ypred\r\n",
        "  weight_change = gradient(error,ypred)  #Gradient descent\r\n",
        "  weights = weights+ np.dot(x.T,weight_change)  \r\n",
        "error"
      ],
      "execution_count": null,
      "outputs": [
        {
          "output_type": "execute_result",
          "data": {
            "text/plain": [
              "array([[-0.02318573],\n",
              "       [-0.02334888],\n",
              "       [ 0.02341204],\n",
              "       [ 0.02324847]])"
            ]
          },
          "metadata": {
            "tags": []
          },
          "execution_count": 20
        }
      ]
    },
    {
      "cell_type": "code",
      "metadata": {
        "colab": {
          "base_uri": "https://localhost:8080/"
        },
        "id": "3FQeUkzGOILk",
        "outputId": "7207b568-9bc3-42b8-a9e0-3fa194a418e8"
      },
      "source": [
        "ypred                            ## The required values are [0,0,1,1]  "
      ],
      "execution_count": null,
      "outputs": [
        {
          "output_type": "execute_result",
          "data": {
            "text/plain": [
              "array([[0.02318573],\n",
              "       [0.02334888],\n",
              "       [0.97658796],\n",
              "       [0.97675153]])"
            ]
          },
          "metadata": {
            "tags": []
          },
          "execution_count": 21
        }
      ]
    },
    {
      "cell_type": "code",
      "metadata": {
        "colab": {
          "base_uri": "https://localhost:8080/"
        },
        "id": "Q75GG7HoOY6j",
        "outputId": "188ebddc-2e54-417f-e76a-650428b32d18"
      },
      "source": [
        "ypred.round()              ##Rounding off"
      ],
      "execution_count": null,
      "outputs": [
        {
          "output_type": "execute_result",
          "data": {
            "text/plain": [
              "array([[0.],\n",
              "       [0.],\n",
              "       [1.],\n",
              "       [1.]])"
            ]
          },
          "metadata": {
            "tags": []
          },
          "execution_count": 22
        }
      ]
    },
    {
      "cell_type": "code",
      "metadata": {
        "colab": {
          "base_uri": "https://localhost:8080/"
        },
        "id": "qEKM-nkDO1Fk",
        "outputId": "7560fbc2-c900-419c-8b18-f7aeb904e182"
      },
      "source": [
        "weights"
      ],
      "execution_count": null,
      "outputs": [
        {
          "output_type": "execute_result",
          "data": {
            "text/plain": [
              "array([[ 3.71187748],\n",
              "       [-3.76181695],\n",
              "       [ 0.00717439]])"
            ]
          },
          "metadata": {
            "tags": []
          },
          "execution_count": 23
        }
      ]
    },
    {
      "cell_type": "code",
      "metadata": {
        "id": "Yr6EZii0O3Hg"
      },
      "source": [
        ""
      ],
      "execution_count": null,
      "outputs": []
    }
  ]
}