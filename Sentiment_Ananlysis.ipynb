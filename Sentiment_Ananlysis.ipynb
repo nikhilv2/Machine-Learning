{
  "nbformat": 4,
  "nbformat_minor": 0,
  "metadata": {
    "colab": {
      "name": "Sentiment Ananlysis.ipynb",
      "provenance": [],
      "authorship_tag": "ABX9TyNs0ylaZXX4OjSvXP7rvsTW",
      "include_colab_link": true
    },
    "kernelspec": {
      "name": "python3",
      "display_name": "Python 3"
    }
  },
  "cells": [
    {
      "cell_type": "markdown",
      "metadata": {
        "id": "view-in-github",
        "colab_type": "text"
      },
      "source": [
        "<a href=\"https://colab.research.google.com/github/nikhilv2/Machine-Learning/blob/main/Sentiment_Ananlysis.ipynb\" target=\"_parent\"><img src=\"https://colab.research.google.com/assets/colab-badge.svg\" alt=\"Open In Colab\"/></a>"
      ]
    },
    {
      "cell_type": "code",
      "metadata": {
        "colab": {
          "base_uri": "https://localhost:8080/"
        },
        "id": "3M9VJtCLWnIu",
        "outputId": "8f7190df-92b6-446c-cb88-41016b636bb5"
      },
      "source": [
        "import nltk\n",
        "nltk.download(\"vader_lexicon\")"
      ],
      "execution_count": null,
      "outputs": [
        {
          "output_type": "stream",
          "text": [
            "[nltk_data] Downloading package vader_lexicon to /root/nltk_data...\n"
          ],
          "name": "stdout"
        },
        {
          "output_type": "execute_result",
          "data": {
            "text/plain": [
              "True"
            ]
          },
          "metadata": {
            "tags": []
          },
          "execution_count": 1
        }
      ]
    },
    {
      "cell_type": "code",
      "metadata": {
        "id": "3gdDE31pXFib"
      },
      "source": [
        "from nltk.sentiment.vader import SentimentIntensityAnalyzer\n",
        "sia = SentimentIntensityAnalyzer()"
      ],
      "execution_count": null,
      "outputs": []
    },
    {
      "cell_type": "code",
      "metadata": {
        "colab": {
          "base_uri": "https://localhost:8080/"
        },
        "id": "sYJwisLaXiHY",
        "outputId": "1bdfa7d0-ada7-4039-c8dd-4c9fa93c027c"
      },
      "source": [
        "sia.polarity_scores(\"good\")          ## if compound < 0 - negative sentiment, >0 - positive , = 0 - neutral"
      ],
      "execution_count": null,
      "outputs": [
        {
          "output_type": "execute_result",
          "data": {
            "text/plain": [
              "{'compound': 0.4404, 'neg': 0.0, 'neu': 0.0, 'pos': 1.0}"
            ]
          },
          "metadata": {
            "tags": []
          },
          "execution_count": 4
        }
      ]
    },
    {
      "cell_type": "code",
      "metadata": {
        "colab": {
          "base_uri": "https://localhost:8080/"
        },
        "id": "rgJyeRuBYgfH",
        "outputId": "8dcd78c0-0015-4767-b5f6-c30b6c0a7e2b"
      },
      "source": [
        "sia.polarity_scores(\"very good\")                ## here neutral value is high because of the word 'very'"
      ],
      "execution_count": null,
      "outputs": [
        {
          "output_type": "execute_result",
          "data": {
            "text/plain": [
              "{'compound': 0.4927, 'neg': 0.0, 'neu': 0.238, 'pos': 0.762}"
            ]
          },
          "metadata": {
            "tags": []
          },
          "execution_count": 5
        }
      ]
    },
    {
      "cell_type": "code",
      "metadata": {
        "colab": {
          "base_uri": "https://localhost:8080/"
        },
        "id": "kcVMtSiaZLe-",
        "outputId": "d1c241af-a347-4704-c5d1-fb975282aa38"
      },
      "source": [
        "sia.polarity_scores(\"excellent\")"
      ],
      "execution_count": null,
      "outputs": [
        {
          "output_type": "execute_result",
          "data": {
            "text/plain": [
              "{'compound': 0.5719, 'neg': 0.0, 'neu': 0.0, 'pos': 1.0}"
            ]
          },
          "metadata": {
            "tags": []
          },
          "execution_count": 8
        }
      ]
    },
    {
      "cell_type": "code",
      "metadata": {
        "colab": {
          "base_uri": "https://localhost:8080/"
        },
        "id": "OjKP2jIRZZT1",
        "outputId": "32bbe712-c298-4f15-c8c4-62f7dead91ac"
      },
      "source": [
        "sia.polarity_scores(\"This is the best movie i have ever seen\")"
      ],
      "execution_count": null,
      "outputs": [
        {
          "output_type": "execute_result",
          "data": {
            "text/plain": [
              "{'compound': 0.6369, 'neg': 0.0, 'neu': 0.625, 'pos': 0.375}"
            ]
          },
          "metadata": {
            "tags": []
          },
          "execution_count": 9
        }
      ]
    },
    {
      "cell_type": "code",
      "metadata": {
        "colab": {
          "base_uri": "https://localhost:8080/"
        },
        "id": "DuVsrfzYbJ0h",
        "outputId": "f2e6936f-6345-4ed8-bfc3-480bd76018cb"
      },
      "source": [
        "sia.polarity_scores(\"This is the worst movie i have ever seen\")"
      ],
      "execution_count": null,
      "outputs": [
        {
          "output_type": "execute_result",
          "data": {
            "text/plain": [
              "{'compound': -0.6249, 'neg': 0.369, 'neu': 0.631, 'pos': 0.0}"
            ]
          },
          "metadata": {
            "tags": []
          },
          "execution_count": 10
        }
      ]
    },
    {
      "cell_type": "code",
      "metadata": {
        "id": "AQ6BpC_SbSSJ"
      },
      "source": [
        ""
      ],
      "execution_count": null,
      "outputs": []
    }
  ]
}