{
  "nbformat": 4,
  "nbformat_minor": 0,
  "metadata": {
    "colab": {
      "name": "Amazon product reviews scrapping.ipynb",
      "provenance": [],
      "authorship_tag": "ABX9TyOo3WvrqZDOxzU3gAB36r0m",
      "include_colab_link": true
    },
    "kernelspec": {
      "name": "python3",
      "display_name": "Python 3"
    }
  },
  "cells": [
    {
      "cell_type": "markdown",
      "metadata": {
        "id": "view-in-github",
        "colab_type": "text"
      },
      "source": [
        "<a href=\"https://colab.research.google.com/github/nikhilv2/Machine-Learning/blob/main/Amazon_product_reviews_scrapping.ipynb\" target=\"_parent\"><img src=\"https://colab.research.google.com/assets/colab-badge.svg\" alt=\"Open In Colab\"/></a>"
      ]
    },
    {
      "cell_type": "code",
      "metadata": {
        "id": "F0bTPr3kZYVg"
      },
      "source": [
        "import requests\n",
        "from bs4 import BeautifulSoup"
      ],
      "execution_count": null,
      "outputs": []
    },
    {
      "cell_type": "code",
      "metadata": {
        "id": "CeuL4oAAZiuA"
      },
      "source": [
        "url = \"https://www.amazon.in/Metallic-Storage-Additional-Exchange-Offers/product-reviews/B089MTC7B5/ref=cm_cr_dp_d_show_all_btm?ie=UTF8&reviewerType=all_reviews\""
      ],
      "execution_count": null,
      "outputs": []
    },
    {
      "cell_type": "code",
      "metadata": {
        "id": "ZgmYVm-aZw0g"
      },
      "source": [
        "page = requests.get(url)"
      ],
      "execution_count": null,
      "outputs": []
    },
    {
      "cell_type": "code",
      "metadata": {
        "colab": {
          "base_uri": "https://localhost:8080/"
        },
        "id": "idLKXxAxZ0ng",
        "outputId": "a608a87c-f5b5-441a-9716-89cbb8637628"
      },
      "source": [
        "page"
      ],
      "execution_count": null,
      "outputs": [
        {
          "output_type": "execute_result",
          "data": {
            "text/plain": [
              "<Response [200]>"
            ]
          },
          "metadata": {
            "tags": []
          },
          "execution_count": 5
        }
      ]
    },
    {
      "cell_type": "code",
      "metadata": {
        "id": "OZHv8Qr-Z1I5"
      },
      "source": [
        "soup = BeautifulSoup(page.content,'html.parser')"
      ],
      "execution_count": null,
      "outputs": []
    },
    {
      "cell_type": "code",
      "metadata": {
        "id": "VMDLhoP0aAaF"
      },
      "source": [
        "print(soup.prettify())"
      ],
      "execution_count": null,
      "outputs": []
    },
    {
      "cell_type": "code",
      "metadata": {
        "colab": {
          "base_uri": "https://localhost:8080/"
        },
        "id": "BJfiK-TnaDnc",
        "outputId": "f219e41e-92c7-47e8-9533-caccc7ad21ff"
      },
      "source": [
        "names= soup.select('span.a-profile-name')\n",
        "names"
      ],
      "execution_count": null,
      "outputs": [
        {
          "output_type": "execute_result",
          "data": {
            "text/plain": [
              "[<span class=\"a-profile-name\">Adnan Shaikh</span>,\n",
              " <span class=\"a-profile-name\">Saroj chhetri</span>,\n",
              " <span class=\"a-profile-name\">Saroj chhetri</span>,\n",
              " <span class=\"a-profile-name\">Adnan Shaikh</span>,\n",
              " <span class=\"a-profile-name\">Sharanya Maity</span>,\n",
              " <span class=\"a-profile-name\">abh</span>,\n",
              " <span class=\"a-profile-name\">Dhir Sahab</span>,\n",
              " <span class=\"a-profile-name\">SAIKAT KARMAKAR</span>,\n",
              " <span class=\"a-profile-name\">Sushma Adapa</span>,\n",
              " <span class=\"a-profile-name\">Mohd Nazim</span>,\n",
              " <span class=\"a-profile-name\">K. Murali dhar</span>,\n",
              " <span class=\"a-profile-name\">Alok Kiragi</span>]"
            ]
          },
          "metadata": {
            "tags": []
          },
          "execution_count": 8
        }
      ]
    },
    {
      "cell_type": "code",
      "metadata": {
        "colab": {
          "base_uri": "https://localhost:8080/"
        },
        "id": "VNZq6iPJcHdU",
        "outputId": "2f87ed2a-a8a7-4c86-c5f8-a196ef47df04"
      },
      "source": [
        "names= soup.select('span.a-profile-name')[2:]\n",
        "names"
      ],
      "execution_count": null,
      "outputs": [
        {
          "output_type": "execute_result",
          "data": {
            "text/plain": [
              "[<span class=\"a-profile-name\">Saroj chhetri</span>,\n",
              " <span class=\"a-profile-name\">Adnan Shaikh</span>,\n",
              " <span class=\"a-profile-name\">Sharanya Maity</span>,\n",
              " <span class=\"a-profile-name\">abh</span>,\n",
              " <span class=\"a-profile-name\">Dhir Sahab</span>,\n",
              " <span class=\"a-profile-name\">SAIKAT KARMAKAR</span>,\n",
              " <span class=\"a-profile-name\">Sushma Adapa</span>,\n",
              " <span class=\"a-profile-name\">Mohd Nazim</span>,\n",
              " <span class=\"a-profile-name\">K. Murali dhar</span>,\n",
              " <span class=\"a-profile-name\">Alok Kiragi</span>]"
            ]
          },
          "metadata": {
            "tags": []
          },
          "execution_count": 9
        }
      ]
    },
    {
      "cell_type": "code",
      "metadata": {
        "colab": {
          "base_uri": "https://localhost:8080/"
        },
        "id": "y8jQeSFfdmdI",
        "outputId": "cd80a279-469c-402e-e403-34c8e72eae76"
      },
      "source": [
        "stars = soup.select('span.a-icon-alt')[3:]\n",
        "stars"
      ],
      "execution_count": null,
      "outputs": [
        {
          "output_type": "execute_result",
          "data": {
            "text/plain": [
              "[<span class=\"a-icon-alt\">2.0 out of 5 stars</span>,\n",
              " <span class=\"a-icon-alt\">4.0 out of 5 stars</span>,\n",
              " <span class=\"a-icon-alt\">5.0 out of 5 stars</span>,\n",
              " <span class=\"a-icon-alt\">5.0 out of 5 stars</span>,\n",
              " <span class=\"a-icon-alt\">5.0 out of 5 stars</span>,\n",
              " <span class=\"a-icon-alt\">5.0 out of 5 stars</span>,\n",
              " <span class=\"a-icon-alt\">5.0 out of 5 stars</span>,\n",
              " <span class=\"a-icon-alt\">5.0 out of 5 stars</span>,\n",
              " <span class=\"a-icon-alt\">5.0 out of 5 stars</span>,\n",
              " <span class=\"a-icon-alt\">4.0 out of 5 stars</span>]"
            ]
          },
          "metadata": {
            "tags": []
          },
          "execution_count": 11
        }
      ]
    },
    {
      "cell_type": "code",
      "metadata": {
        "colab": {
          "base_uri": "https://localhost:8080/"
        },
        "id": "WtjloKUoiTTd",
        "outputId": "1562030e-e226-49a6-ebb5-45e3d38ee25e"
      },
      "source": [
        "titles = soup.select('a.review-title span')\n",
        "titles"
      ],
      "execution_count": null,
      "outputs": [
        {
          "output_type": "execute_result",
          "data": {
            "text/plain": [
              "[<span>Waste of money</span>,\n",
              " <span>A very strong phone</span>,\n",
              " <span>It's love</span>,\n",
              " <span>Sleek and trendy</span>,\n",
              " <span>Good Product!!</span>,\n",
              " <span>Sleekest phone of 2020</span>,\n",
              " <span>Best Phone with best price.</span>,\n",
              " <span>Good Phone</span>,\n",
              " <span>Value for money 😇</span>,\n",
              " <span>Slim and Light phone at this price</span>]"
            ]
          },
          "metadata": {
            "tags": []
          },
          "execution_count": 13
        }
      ]
    },
    {
      "cell_type": "code",
      "metadata": {
        "colab": {
          "base_uri": "https://localhost:8080/"
        },
        "id": "JopSoxnFiw6b",
        "outputId": "6260cf37-ef4f-4b31-9bae-1880e7d495bd"
      },
      "source": [
        "dates = soup.select('span.review-date')[2:]\n",
        "dates"
      ],
      "execution_count": null,
      "outputs": [
        {
          "output_type": "execute_result",
          "data": {
            "text/plain": [
              "[<span class=\"a-size-base a-color-secondary review-date\" data-hook=\"review-date\">Reviewed in India on 7 September 2020</span>,\n",
              " <span class=\"a-size-base a-color-secondary review-date\" data-hook=\"review-date\">Reviewed in India on 10 September 2020</span>,\n",
              " <span class=\"a-size-base a-color-secondary review-date\" data-hook=\"review-date\">Reviewed in India on 16 September 2020</span>,\n",
              " <span class=\"a-size-base a-color-secondary review-date\" data-hook=\"review-date\">Reviewed in India on 8 September 2020</span>,\n",
              " <span class=\"a-size-base a-color-secondary review-date\" data-hook=\"review-date\">Reviewed in India on 9 September 2020</span>,\n",
              " <span class=\"a-size-base a-color-secondary review-date\" data-hook=\"review-date\">Reviewed in India on 8 September 2020</span>,\n",
              " <span class=\"a-size-base a-color-secondary review-date\" data-hook=\"review-date\">Reviewed in India on 27 October 2020</span>,\n",
              " <span class=\"a-size-base a-color-secondary review-date\" data-hook=\"review-date\">Reviewed in India on 16 September 2020</span>,\n",
              " <span class=\"a-size-base a-color-secondary review-date\" data-hook=\"review-date\">Reviewed in India on 11 September 2020</span>,\n",
              " <span class=\"a-size-base a-color-secondary review-date\" data-hook=\"review-date\">Reviewed in India on 12 September 2020</span>]"
            ]
          },
          "metadata": {
            "tags": []
          },
          "execution_count": 14
        }
      ]
    },
    {
      "cell_type": "code",
      "metadata": {
        "colab": {
          "base_uri": "https://localhost:8080/"
        },
        "id": "ir4UIIFAkqA2",
        "outputId": "aba17ca1-3769-4d57-ee83-9be2f336f680"
      },
      "source": [
        "reviews = soup.select('span.review-text span')\n",
        "reviews"
      ],
      "execution_count": null,
      "outputs": [
        {
          "output_type": "execute_result",
          "data": {
            "text/plain": [
              "[<span>\n",
              "   Not so good phone waste of money<br/>Display-10/10 .best 👍great display super amoled<br/>Port-10/10..👍2+1 port which is Indian required..<br/>Proccessor-5/10.👎👎.22k price and proccesor p95 r u kidding me... If you want to buy in terms of display camera then don't buy this phone.. Main thing which phone is required processors... After some days you feel lacking some times<br/>Camera-7/10 👎average<br/>Fingers print-6/10 👎average<br/>Facelock-8/10👍 good<br/>You choose poco x2 or wait some time m51 Samsung or redmi k20 pro\n",
              " </span>, <span>\n",
              "   So, I ended up ordering this for my mother. I think I am going to keep it for myself.<br/>So far so good, 1st day of usage-<br/><br/>If we say that One Plus and Iphones are 9/10s or 10/10s then Oppo F17 Pro is-<br/><br/>Battery Charging Capacity- 8/10<br/>Battery Lasting Capacity- 8/10<br/>Rear Camera- 8/10<br/>Front Camera- 8/10<br/>Screen- 9/10<br/>Sound- 9/10<br/><br/>Comes with a cover, ear phones and a charger which is indeed amazing.<br/><br/>The phone is surprisingly good. It has a good camera which has multiple modes to click photos. It's front camera is top notch. I think if you get this phone for less than 20k by exchanging your old phone, it is totally worth it.<br/>It is a very light phone btw. Easy on the eyes and easy on the pocket.<br/><br/>This is a day 1 review, first impression and a few hours of usage after full battery. It charges real quick btw.<br/><br/>Shall update and edit this review in future if anything changes.<br/><br/>Oppo has caught up with One Plus phones and with this budget phone, it has moved a step ahead.<br/><br/>Buy it without any regrets if you can exchange an old phone and get this within 20,000.<br/><br/>Go for it.\n",
              " </span>, <span>\n",
              "   Nice camera , nice display, nice battary ❤️❤️❤️\n",
              " </span>, <span>\n",
              "   My initial thoughts of the product<br/>Design 5/5 - it is great to see a brand put emphasis on design aspect of phone, it is sleek and light - great to hold<br/>Camera 5/5- the dual front camera at this price is good, the best part about both cameras was the color portrait with black and white background<br/>Charging and battery 5/5 - charging was really fast and I am satisfied with the 30w charging.<br/>Performance 5/5- the display and performance of the phone is also really good.\n",
              " </span>, <span>\n",
              "   Good device<br/>Battery backup is good<br/>Fast Charging<br/>Light Weight<br/>Has 3.5 MM headphone jack\n",
              " </span>, <span>\n",
              "   The phone is sleek and very handy. Having 8gb of RAM is the best thing, the phone is fast, responsive. The only thing that I felt Oppo could have made better was the front camera. It not only feels that images captured are artificial but also have very less details captured. Overall the phone battery life is very good, quad camera produces top quality images. I will give this phone 4.5 rating...\n",
              " </span>, <span>\n",
              "   Perfect Mobile for Photos. Loving Oppo for its performance and quality\n",
              " </span>, <span>\n",
              "   It is good phone but not best in this price range as it is not value for money product. It has 4 cameras in rear but 2 cameras are just good for nothing. Oppo just showed to customer that they are giving 4 cameras in rear. Phone back is totally plastic whih may get impacted in case of any fall. Processer can be snapdragon but they are offering mediatek. Now focus on some postive things where design in amazing. Phone has amoled display which makes it perfect in its category. Screen size, ram,memory, battery are great.\n",
              " </span>, <span>\n",
              "   Excellent working ,good camera features ,ear phones were awsome with real sound tracking technology ,value for money 10/10 ,charging is too good and fast charging.\n",
              " </span>, <span>\n",
              "   I had ordered this phone on the launch day and I received it on 10th September. After 2 days of usage My detailed review<br/>Pros :<br/>1) Very Light and very slim<br/>2) 30Watt VOOC charge which charges phone in less than an hour<br/>3) Display<br/>4) Battery Backup ( not a gamer )<br/>5) Rear Quad Camera has separate separate lens cover for each lens which makes easy for replacing lens cover later.<br/><br/>Cons :<br/>1) I think Camera is not up to the mark<br/>2) Editing options are very less even though AI is there.<br/>3) Charging adapter is too heavy of course it's a 30watt charger<br/>4) Finger print sensor response is low<br/><br/>Conclusion :<br/>I love this phone coz it's really very very light and slim and I am not a gamer and I am not a heavy camera user. So For camera lovers and Gamers this I don't recommend this phone. But others who just love slim phone, just buy this phone. It's really awesome however camera is good but not the best. So think and buy.\n",
              " </span>]"
            ]
          },
          "metadata": {
            "tags": []
          },
          "execution_count": 15
        }
      ]
    },
    {
      "cell_type": "code",
      "metadata": {
        "colab": {
          "base_uri": "https://localhost:8080/"
        },
        "id": "90a7FEhWksi8",
        "outputId": "e5cd63d8-dfb4-4dfa-ba57-e5228676da7c"
      },
      "source": [
        "len(reviews)"
      ],
      "execution_count": null,
      "outputs": [
        {
          "output_type": "execute_result",
          "data": {
            "text/plain": [
              "10"
            ]
          },
          "metadata": {
            "tags": []
          },
          "execution_count": 16
        }
      ]
    },
    {
      "cell_type": "code",
      "metadata": {
        "colab": {
          "base_uri": "https://localhost:8080/",
          "height": 35
        },
        "id": "BAPoT2Q0kuZk",
        "outputId": "577859bc-dd3f-4622-f000-a234f4bdea98"
      },
      "source": [
        "names[2].get_text()"
      ],
      "execution_count": null,
      "outputs": [
        {
          "output_type": "execute_result",
          "data": {
            "application/vnd.google.colaboratory.intrinsic+json": {
              "type": "string"
            },
            "text/plain": [
              "'Sharanya Maity'"
            ]
          },
          "metadata": {
            "tags": []
          },
          "execution_count": 17
        }
      ]
    },
    {
      "cell_type": "code",
      "metadata": {
        "colab": {
          "base_uri": "https://localhost:8080/",
          "height": 35
        },
        "id": "WB3HGH9boCIr",
        "outputId": "f98496f5-b420-4a8d-a6e3-2a977f28284e"
      },
      "source": [
        "a = \" $Nikhil$ \"\n",
        "a.strip()"
      ],
      "execution_count": null,
      "outputs": [
        {
          "output_type": "execute_result",
          "data": {
            "application/vnd.google.colaboratory.intrinsic+json": {
              "type": "string"
            },
            "text/plain": [
              "'$Nikhil$'"
            ]
          },
          "metadata": {
            "tags": []
          },
          "execution_count": 18
        }
      ]
    },
    {
      "cell_type": "code",
      "metadata": {
        "id": "ejEM2xfBoGGM"
      },
      "source": [
        "cust_name = []\n",
        "cust_rating = []\n",
        "rev_date = []\n",
        "rev_title = []\n",
        "rev_text = []\n",
        "for i in range(10):\n",
        "  cust_name.append(names[i].get_text())\n",
        "  cust_rating.append(stars[i].get_text().rstrip(\" out of 5 stars\"))\n",
        "  rev_date.append(dates[i].get_text().lstrip(\"Reviewed in India on \"))\n",
        "  rev_title.append(titles[i].get_text())\n",
        "  rev_text.append(reviews[i].get_text().strip(\"\\n \"))\n",
        "\n"
      ],
      "execution_count": null,
      "outputs": []
    },
    {
      "cell_type": "code",
      "metadata": {
        "id": "zNK0vpaUoIpn"
      },
      "source": [
        "import pandas as pd"
      ],
      "execution_count": null,
      "outputs": []
    },
    {
      "cell_type": "code",
      "metadata": {
        "colab": {
          "base_uri": "https://localhost:8080/",
          "height": 238
        },
        "id": "gj8Rgxbzoz35",
        "outputId": "7c093560-8016-4442-87cf-e64caab28e12"
      },
      "source": [
        "df = pd.DataFrame()\n",
        "df['Date'] = rev_date\n",
        "df['Costumer Name'] = cust_name\n",
        "df['Ratings'] = cust_rating\n",
        "df['Titles'] = rev_title\n",
        "df['Text'] = rev_text\n",
        "df"
      ],
      "execution_count": null,
      "outputs": [
        {
          "output_type": "error",
          "ename": "NameError",
          "evalue": "ignored",
          "traceback": [
            "\u001b[0;31m---------------------------------------------------------------------------\u001b[0m",
            "\u001b[0;31mNameError\u001b[0m                                 Traceback (most recent call last)",
            "\u001b[0;32m<ipython-input-3-a6e5578a32fd>\u001b[0m in \u001b[0;36m<module>\u001b[0;34m()\u001b[0m\n\u001b[1;32m      1\u001b[0m \u001b[0mdf\u001b[0m \u001b[0;34m=\u001b[0m \u001b[0mpd\u001b[0m\u001b[0;34m.\u001b[0m\u001b[0mDataFrame\u001b[0m\u001b[0;34m(\u001b[0m\u001b[0;34m)\u001b[0m\u001b[0;34m\u001b[0m\u001b[0;34m\u001b[0m\u001b[0m\n\u001b[0;32m----> 2\u001b[0;31m \u001b[0mdf\u001b[0m\u001b[0;34m[\u001b[0m\u001b[0;34m'Date'\u001b[0m\u001b[0;34m]\u001b[0m \u001b[0;34m=\u001b[0m \u001b[0mrev_date\u001b[0m\u001b[0;34m\u001b[0m\u001b[0;34m\u001b[0m\u001b[0m\n\u001b[0m\u001b[1;32m      3\u001b[0m \u001b[0mdf\u001b[0m\u001b[0;34m[\u001b[0m\u001b[0;34m'Costumer Name'\u001b[0m\u001b[0;34m]\u001b[0m \u001b[0;34m=\u001b[0m \u001b[0mcust_name\u001b[0m\u001b[0;34m\u001b[0m\u001b[0;34m\u001b[0m\u001b[0m\n\u001b[1;32m      4\u001b[0m \u001b[0mdf\u001b[0m\u001b[0;34m[\u001b[0m\u001b[0;34m'Ratings'\u001b[0m\u001b[0;34m]\u001b[0m \u001b[0;34m=\u001b[0m \u001b[0mcust_rating\u001b[0m\u001b[0;34m\u001b[0m\u001b[0;34m\u001b[0m\u001b[0m\n\u001b[1;32m      5\u001b[0m \u001b[0mdf\u001b[0m\u001b[0;34m[\u001b[0m\u001b[0;34m'Titles'\u001b[0m\u001b[0;34m]\u001b[0m \u001b[0;34m=\u001b[0m \u001b[0mrev_title\u001b[0m\u001b[0;34m\u001b[0m\u001b[0;34m\u001b[0m\u001b[0m\n",
            "\u001b[0;31mNameError\u001b[0m: name 'rev_date' is not defined"
          ]
        }
      ]
    },
    {
      "cell_type": "code",
      "metadata": {
        "id": "tZUklNCXpZBk"
      },
      "source": [
        "df.to_csv(\"amazon_product_review.csv\")"
      ],
      "execution_count": null,
      "outputs": []
    },
    {
      "cell_type": "code",
      "metadata": {
        "id": "i-fCrDzFpc9x"
      },
      "source": [
        ""
      ],
      "execution_count": null,
      "outputs": []
    }
  ]
}